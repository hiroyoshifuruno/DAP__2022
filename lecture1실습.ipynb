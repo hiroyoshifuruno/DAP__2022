{
  "nbformat": 4,
  "nbformat_minor": 0,
  "metadata": {
    "colab": {
      "private_outputs": true,
      "provenance": [],
      "collapsed_sections": []
    },
    "kernelspec": {
      "name": "python3",
      "display_name": "Python 3"
    },
    "language_info": {
      "name": "python"
    }
  },
  "cells": [
    {
      "cell_type": "code",
      "execution_count": null,
      "metadata": {
        "id": "gV3_uOsQ1c-M"
      },
      "outputs": [],
      "source": [
        "import numpy as np\n",
        "import pandas as pd\n",
        "import \n",
        "import\n",
        "import\n",
        "import"
      ]
    },
    {
      "cell_type": "code",
      "source": [
        "print(f'npmpy version: {np.__version__}')"
      ],
      "metadata": {
        "id": "1DNsRreB3Csg"
      },
      "execution_count": null,
      "outputs": []
    },
    {
      "cell_type": "code",
      "source": [],
      "metadata": {
        "id": "KEBEPWQb3JzW"
      },
      "execution_count": null,
      "outputs": []
    }
  ]
}